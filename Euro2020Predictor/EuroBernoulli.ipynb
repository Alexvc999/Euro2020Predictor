{
 "cells": [
  {
   "cell_type": "code",
   "execution_count": 1,
   "id": "40508330",
   "metadata": {},
   "outputs": [],
   "source": [
    "import numpy as np  # Resolver operaciones de algebra lineal\n",
    "import pandas as pd  # Procesamiento de datos, archivos CSV\n",
    "from matplotlib import pyplot as plt\n",
    "\n",
    "teams = pd.read_csv('/Users/Administrador/Desktop/EuroData/jugadores.csv', sep=\";\")\n",
    "\n",
    "rankings = pd.read_csv('/Users/Administrador/Desktop/EuroData/fifa_ranking.csv')\n",
    "rankings = rankings.replace({'FYR Macedonia': 'North Macedonia'})\n",
    "rankings = rankings.loc[:, ['rank', 'country_full', 'country_abrv', 'cur_year_avg_weighted', 'rank_date',\n",
    "                           'two_year_ago_weighted', 'three_year_ago_weighted']]\n",
    "\n",
    "rankings['weighted_points'] = rankings['cur_year_avg_weighted'] + rankings['two_year_ago_weighted']  + rankings['three_year_ago_weighted']\n",
    "rankings['rank_date'] = pd.to_datetime(rankings['rank_date'])\n",
    "\n",
    "matches = pd.read_csv('/Users/Administrador/Desktop/EuroData/results.csv')\n",
    "matches = matches.replace({'German DR': 'Germany'})\n",
    "matches['date'] = pd.to_datetime(matches['date'])\n",
    "\n",
    "euro_cup = pd.read_csv('/Users/Administrador/Desktop/EuroData/grupos_euro.csv', sep=\";\")\n",
    "euro_cup = euro_cup[['Team', 'Group', 'First match against', 'Second match against', 'Third match against']]\n",
    "euro_cup = euro_cup.dropna(how='all')"
   ]
  },
  {
   "cell_type": "code",
   "execution_count": 2,
   "id": "bdabca81",
   "metadata": {},
   "outputs": [],
   "source": [
    "# Unimos rankings\n",
    "matches = matches.merge(rankings,\n",
    "                        left_on=['date', 'home_team'],\n",
    "                        right_on=['rank_date', 'country_full'])\n",
    "matches = matches.merge(rankings,\n",
    "                        left_on=['date', 'away_team'],\n",
    "                        right_on=['rank_date', 'country_full'],\n",
    "                        suffixes=('_home', '_away'))\n",
    "\n",
    "# Agregamos el potencial del equipo al dataset de partidos\n",
    "teamValue = teams.groupby('squad').mean()['overall']\n",
    "matches = matches.merge(teamValue, \n",
    "                        left_on=['home_team'], \n",
    "                        right_on=['squad'])\n",
    "matches = matches.merge(teamValue, \n",
    "                        left_on=['away_team'], \n",
    "                        right_on=['squad'], \n",
    "                        suffixes=('_home', '_away'))\n",
    "\n",
    "# Agregar diferencia de potencial entre los equipos\n",
    "matches['teamValue_difference'] = matches['overall_home'] - matches['overall_away']\n",
    "\n",
    "# Agregando el potencial del equipo al dataset de copa\n",
    "euro_cup = euro_cup.merge(teamValue, \n",
    "                        left_on=['Team'], \n",
    "                        right_on=['squad'])\n",
    "euro_cup = euro_cup.set_index('Team')"
   ]
  },
  {
   "cell_type": "code",
   "execution_count": 3,
   "id": "34343bd8",
   "metadata": {},
   "outputs": [],
   "source": [
    "# Generamos caracteristicas\n",
    "matches['rank_difference'] = matches['rank_home'] - matches['rank_away']\n",
    "matches['average_rank'] = (matches['rank_home'] + matches['rank_away'])/2\n",
    "matches['point_difference'] = matches['weighted_points_home'] - matches['weighted_points_away']\n",
    "matches['score_difference'] = matches['home_score'] - matches['away_score']\n",
    "matches['is_won'] = matches['score_difference'] > 0  # Tomamos el empate como derrota\n",
    "matches['is_stake'] = matches['tournament'] != 'Friendly'"
   ]
  },
  {
   "cell_type": "code",
   "execution_count": 4,
   "id": "a7e20d34",
   "metadata": {},
   "outputs": [
    {
     "data": {
      "image/png": "[encoded data removed]",
      "text/plain": [
       "<Figure size 1080x360 with 3 Axes>"
      ]
     },
     "metadata": {
      "needs_background": "light"
     },
     "output_type": "display_data"
    }
   ],
   "source": [
    "from sklearn import linear_model\n",
    "from sklearn import ensemble\n",
    "from sklearn.model_selection import train_test_split\n",
    "from sklearn.metrics import confusion_matrix, roc_curve, roc_auc_score\n",
    "from sklearn.pipeline import Pipeline\n",
    "from sklearn.preprocessing import PolynomialFeatures\n",
    "\n",
    "X, y = matches.loc[:, ['average_rank', 'rank_difference', 'teamValue_difference', 'is_stake']], matches['is_won']\n",
    "X_train, X_test, y_train, y_test = train_test_split(\n",
    "    X, y, test_size=0.2, random_state=42)\n",
    "\n",
    "logreg = linear_model.LogisticRegression(C=1e-5)\n",
    "features = PolynomialFeatures(degree=2)\n",
    "model = Pipeline([\n",
    "    ('polynomial_features', features),\n",
    "    ('logistic_regression', logreg)\n",
    "])\n",
    "model = model.fit(X_train, y_train)\n",
    "\n",
    "# Graficos\n",
    "fpr, tpr, _ = roc_curve(y_test, model.predict_proba(X_test)[:, 1])\n",
    "plt.figure(figsize=(15, 5))\n",
    "ax = plt.subplot(1, 3, 1)\n",
    "ax.plot([0, 1], [0, 1], 'k--')\n",
    "ax.plot(fpr, tpr)\n",
    "ax.set_title('AUC score is {0:0.2}'.format(roc_auc_score(y_test, model.predict_proba(X_test)[:, 1])))\n",
    "ax.set_aspect(1)\n",
    "\n",
    "ax = plt.subplot(1, 3, 2)\n",
    "cm = confusion_matrix(y_test, model.predict(X_test))\n",
    "ax.imshow(cm, cmap='Blues', clim=(0, cm.max()))\n",
    "\n",
    "ax.set_xlabel('Predicted label')\n",
    "ax.set_title('Performance on the Test set')\n",
    "\n",
    "ax = plt.subplot(1, 3, 3)\n",
    "cm = confusion_matrix(y_train, model.predict(X_train))\n",
    "ax.imshow(cm, cmap='Blues', clim=(0, cm.max()))\n",
    "ax.set_xlabel('Predicted label')\n",
    "ax.set_title('Performance on the Training set')\n",
    "pass"
   ]
  },
  {
   "cell_type": "code",
   "execution_count": 5,
   "id": "c1d03a2f",
   "metadata": {},
   "outputs": [],
   "source": [
    "euro_cup_rankings = rankings.loc[(rankings['rank_date'] == rankings['rank_date'].max()) &\n",
    "                                    rankings['country_full'].isin(euro_cup.index.unique())]\n",
    "euro_cup_rankings = euro_cup_rankings.set_index(['country_full'])"
   ]
  },
  {
   "cell_type": "code",
   "execution_count": 6,
   "id": "a3b01aff",
   "metadata": {},
   "outputs": [
    {
     "name": "stderr",
     "output_type": "stream",
     "text": [
      " 99% (997 of 1000) |#################### | Elapsed Time: 0:00:41 ETA:   0:00:00"
     ]
    }
   ],
   "source": [
    "import progressbar\n",
    "\n",
    "simulation_results = list()\n",
    "n_simulations = 1000\n",
    "bar = progressbar.ProgressBar(max_value=n_simulations)\n",
    "\n",
    "for i in range(n_simulations):\n",
    "    bar.update(i)\n",
    "    candidates = ['Belgium', 'Portugal', 'Switzerland', 'Czech Republic',\n",
    "                  'Germany', 'Wales', 'Austria', 'Sweden',\n",
    "                  'Spain', 'Croatia', 'Netherlands', 'France',\n",
    "                  'England', 'Ukraine', 'Italy', 'Denmark']\n",
    "    finals = ['round_of_16', 'quarterfinal', 'semifinal', 'final']\n",
    "\n",
    "    for f in finals:\n",
    "        iterations = int(len(candidates) / 2)\n",
    "        winners = []\n",
    "\n",
    "        for i in range(iterations):\n",
    "            home = candidates[i * 2]\n",
    "            away = candidates[i * 2 + 1]\n",
    "\n",
    "            row = pd.DataFrame(np.array([[np.nan, np.nan, np.nan, True]]), columns=X_test.columns)\n",
    "            home_rank = euro_cup_rankings.loc[home, 'rank']\n",
    "            home_points = euro_cup_rankings.loc[home, 'weighted_points']\n",
    "            opp_rank = euro_cup_rankings.loc[away, 'rank']\n",
    "            opp_points = euro_cup_rankings.loc[away, 'weighted_points']\n",
    "            teamValue_home = euro_cup.loc[home, 'overall']\n",
    "            teamValue_away = euro_cup.loc[away, 'overall']\n",
    "            \n",
    "            row['average_rank'] = (home_rank + opp_rank) / 2\n",
    "            row['rank_difference'] = home_rank - opp_rank\n",
    "            #row['point_difference'] = home_points - opp_points\n",
    "            row['teamValue_difference'] = teamValue_home - teamValue_away\n",
    "\n",
    "            home_win_prob = model.predict_proba(row)[:, 1][0]\n",
    "\n",
    "            # simulation step based on the probability\n",
    "            simulated_outcome = np.random.binomial(1, home_win_prob)\n",
    "            winners.append(away) if simulated_outcome <= 0.5 else winners.append(home)\n",
    "        candidates = winners\n",
    "    simulations_results = simulation_results.append(candidates)\n",
    "\n",
    "simulation_results = sum(simulation_results, [])"
   ]
  },
  {
   "cell_type": "code",
   "execution_count": 7,
   "id": "607a5953",
   "metadata": {},
   "outputs": [
    {
     "data": {
      "text/plain": [
       "Text(0, 0.5, 'Winning probability')"
      ]
     },
     "execution_count": 7,
     "metadata": {},
     "output_type": "execute_result"
    },
    {
     "data": {
      "image/png": "[encoded data removed]",
      "text/plain": [
       "<Figure size 720x360 with 1 Axes>"
      ]
     },
     "metadata": {
      "needs_background": "light"
     },
     "output_type": "display_data"
    }
   ],
   "source": [
    "pd.Series(simulation_results).value_counts().sort_values().divide(n_simulations).plot.barh(figsize=(10,5))\n",
    "plt.ylabel('Winning probability')"
   ]
  }
 ],
 "metadata": {
  "kernelspec": {
   "display_name": "Python 3",
   "language": "python",
   "name": "python3"
  },
  "language_info": {
   "codemirror_mode": {
    "name": "ipython",
    "version": 3
   },
   "file_extension": ".py",
   "mimetype": "text/x-python",
   "name": "python",
   "nbconvert_exporter": "python",
   "pygments_lexer": "ipython3",
   "version": "3.8.8"
  }
 },
 "nbformat": 4,
 "nbformat_minor": 5
}
